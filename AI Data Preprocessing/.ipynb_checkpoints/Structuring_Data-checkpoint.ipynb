{
 "cells": [
  {
   "cell_type": "code",
   "execution_count": 15,
   "id": "a10dee12",
   "metadata": {},
   "outputs": [],
   "source": [
    "import numpy as np\n",
    "import cv2 \n",
    "import matplotlib.pyplot as plt\n",
    "%matplotlib inline\n",
    "import pandas as pd\n",
    "from PIL import Image\n",
    "from glob import glob"
   ]
  },
  {
   "cell_type": "code",
   "execution_count": 16,
   "id": "2023208f",
   "metadata": {},
   "outputs": [],
   "source": [
    "female = glob('./data/crop/female_crop/*.png')\n",
    "male = glob('./data/crop/male_crop/*.png')"
   ]
  },
  {
   "cell_type": "code",
   "execution_count": 17,
   "id": "f975408a",
   "metadata": {},
   "outputs": [],
   "source": [
    "path1 = female + male"
   ]
  },
  {
   "cell_type": "code",
   "execution_count": 18,
   "id": "82c60936",
   "metadata": {},
   "outputs": [
    {
     "data": {
      "text/plain": [
       "[]"
      ]
     },
     "execution_count": 18,
     "metadata": {},
     "output_type": "execute_result"
    }
   ],
   "source": [
    "path1"
   ]
  },
  {
   "cell_type": "code",
   "execution_count": 19,
   "id": "5a05ba25",
   "metadata": {},
   "outputs": [
    {
     "ename": "IndexError",
     "evalue": "list index out of range",
     "output_type": "error",
     "traceback": [
      "\u001b[1;31m---------------------------------------------------------------------------\u001b[0m",
      "\u001b[1;31mIndexError\u001b[0m                                Traceback (most recent call last)",
      "\u001b[1;32m~\\AppData\\Local\\Temp/ipykernel_7716/3190522021.py\u001b[0m in \u001b[0;36m<module>\u001b[1;34m\u001b[0m\n\u001b[0;32m      1\u001b[0m \u001b[1;31m#getting size of images\u001b[0m\u001b[1;33m\u001b[0m\u001b[1;33m\u001b[0m\u001b[0m\n\u001b[1;32m----> 2\u001b[1;33m \u001b[0mimg\u001b[0m \u001b[1;33m=\u001b[0m \u001b[0mImage\u001b[0m\u001b[1;33m.\u001b[0m\u001b[0mopen\u001b[0m\u001b[1;33m(\u001b[0m\u001b[0mpath\u001b[0m\u001b[1;33m[\u001b[0m\u001b[1;36m0\u001b[0m\u001b[1;33m]\u001b[0m\u001b[1;33m)\u001b[0m\u001b[1;33m\u001b[0m\u001b[1;33m\u001b[0m\u001b[0m\n\u001b[0m\u001b[0;32m      3\u001b[0m \u001b[0mimg\u001b[0m\u001b[1;33m.\u001b[0m\u001b[0msize\u001b[0m\u001b[1;33m\u001b[0m\u001b[1;33m\u001b[0m\u001b[0m\n",
      "\u001b[1;31mIndexError\u001b[0m: list index out of range"
     ]
    }
   ],
   "source": [
    "#getting size of images\n",
    "img = Image.open(path[0])\n",
    "img.size"
   ]
  },
  {
   "cell_type": "code",
   "execution_count": 20,
   "id": "8c18cf00",
   "metadata": {},
   "outputs": [],
   "source": [
    "# let take in a function \n",
    "def getSize(path):\n",
    "    img= Image.open(path)\n",
    "    return img.size[0]\n",
    "    "
   ]
  },
  {
   "cell_type": "code",
   "execution_count": 21,
   "id": "4539f06d",
   "metadata": {},
   "outputs": [
    {
     "ename": "IndexError",
     "evalue": "list index out of range",
     "output_type": "error",
     "traceback": [
      "\u001b[1;31m---------------------------------------------------------------------------\u001b[0m",
      "\u001b[1;31mIndexError\u001b[0m                                Traceback (most recent call last)",
      "\u001b[1;32m~\\AppData\\Local\\Temp/ipykernel_7716/3924452815.py\u001b[0m in \u001b[0;36m<module>\u001b[1;34m\u001b[0m\n\u001b[1;32m----> 1\u001b[1;33m \u001b[0mgetSize\u001b[0m\u001b[1;33m(\u001b[0m\u001b[0mpath\u001b[0m\u001b[1;33m[\u001b[0m\u001b[1;36m0\u001b[0m\u001b[1;33m]\u001b[0m\u001b[1;33m)\u001b[0m\u001b[1;33m\u001b[0m\u001b[1;33m\u001b[0m\u001b[0m\n\u001b[0m",
      "\u001b[1;31mIndexError\u001b[0m: list index out of range"
     ]
    }
   ],
   "source": [
    "getSize(path[0])"
   ]
  },
  {
   "cell_type": "code",
   "execution_count": 22,
   "id": "2a90fe18",
   "metadata": {},
   "outputs": [
    {
     "data": {
      "text/plain": [
       "(0, 1)"
      ]
     },
     "execution_count": 22,
     "metadata": {},
     "output_type": "execute_result"
    }
   ],
   "source": [
    "# lets create a dataFram by using pandas\n",
    "df= pd.DataFrame(data=path,columns=['path'])\n",
    "df.shape"
   ]
  },
  {
   "cell_type": "code",
   "execution_count": null,
   "id": "dfdc4c54",
   "metadata": {},
   "outputs": [],
   "source": [
    "df['size'] = df['path'].apply(getSize)\n",
    "df.head()"
   ]
  },
  {
   "cell_type": "code",
   "execution_count": null,
   "id": "41f89c0b",
   "metadata": {},
   "outputs": [],
   "source": [
    "df.tail()"
   ]
  },
  {
   "cell_type": "markdown",
   "id": "5f306c1e",
   "metadata": {},
   "source": [
    "# Exploratory Data Analysis EDA"
   ]
  },
  {
   "cell_type": "code",
   "execution_count": null,
   "id": "a9dc7f33",
   "metadata": {},
   "outputs": [],
   "source": [
    "df.describe()"
   ]
  },
  {
   "cell_type": "code",
   "execution_count": null,
   "id": "a81ab065",
   "metadata": {},
   "outputs": [],
   "source": [
    "df['size'].plot('box')"
   ]
  },
  {
   "cell_type": "code",
   "execution_count": null,
   "id": "0766f246",
   "metadata": {},
   "outputs": [],
   "source": [
    "plt.hist(df['size'],bins=30)\n",
    "plt.show()"
   ]
  },
  {
   "cell_type": "markdown",
   "id": "bc411bce",
   "metadata": {},
   "source": [
    "# So, from analysis i will resize all the image in 100 x 100 form and remove image with size less or equal 54"
   ]
  },
  {
   "cell_type": "code",
   "execution_count": null,
   "id": "8c50aaf6",
   "metadata": {},
   "outputs": [],
   "source": [
    "len(df['size']>60)"
   ]
  },
  {
   "cell_type": "code",
   "execution_count": null,
   "id": "7d16e6b1",
   "metadata": {},
   "outputs": [],
   "source": [
    "#condition convert boolean form\n",
    "df_new = df[df['size']>60]"
   ]
  },
  {
   "cell_type": "code",
   "execution_count": null,
   "id": "17fe26f8",
   "metadata": {},
   "outputs": [],
   "source": [
    "df_new"
   ]
  },
  {
   "cell_type": "code",
   "execution_count": null,
   "id": "b120d88e",
   "metadata": {},
   "outputs": [],
   "source": [
    "#delte 243\n",
    "#in df_new =3257\n",
    "string = df_new['path'][0]\n",
    "string.split('_crop_crop')[0].\n"
   ]
  },
  {
   "cell_type": "code",
   "execution_count": null,
   "id": "915c901c",
   "metadata": {},
   "outputs": [],
   "source": []
  }
 ],
 "metadata": {
  "kernelspec": {
   "display_name": "Python 3 (ipykernel)",
   "language": "python",
   "name": "python3"
  },
  "language_info": {
   "codemirror_mode": {
    "name": "ipython",
    "version": 3
   },
   "file_extension": ".py",
   "mimetype": "text/x-python",
   "name": "python",
   "nbconvert_exporter": "python",
   "pygments_lexer": "ipython3",
   "version": "3.9.7"
  }
 },
 "nbformat": 4,
 "nbformat_minor": 5
}
